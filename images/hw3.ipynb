{
 "cells": [
  {
   "cell_type": "markdown",
   "metadata": {},
   "source": [
    "# Homework 3  "
   ]
  },
  {
   "cell_type": "markdown",
   "metadata": {},
   "source": [
    "The total score for this assignment will be 50 points, consisting of:\n",
    "   - 45 pts: Homework Code and Explanations\n",
    "   - 5 pts: Overall quality of spelling, grammar, punctuation, etc. of written sentences."
   ]
  },
  {
   "cell_type": "markdown",
   "metadata": {},
   "source": [
    "### Question 1 (5 pts)  \n",
    "Read in the avocado.csv file as a dataframe using the default settings of function used to load the file. How many columns are in the dataframe? What do you notice about the entries?"
   ]
  },
  {
   "cell_type": "code",
   "execution_count": 1,
   "metadata": {},
   "outputs": [],
   "source": [
    "#Q1 Code\n"
   ]
  },
  {
   "cell_type": "markdown",
   "metadata": {},
   "source": [
    "#### Question 1 Explanation:"
   ]
  },
  {
   "cell_type": "markdown",
   "metadata": {},
   "source": [
    " "
   ]
  },
  {
   "cell_type": "markdown",
   "metadata": {},
   "source": [
    "### Question 2 (10 pts)  \n",
    "Reload the file but adjust your arguments so that your dataframe has 18249 rows and 14 columns. Make sure that your numeric values such as AveragePrice appear in the correct format. Print the first 5 rows of your dataframe.\n",
    "\n",
    "*hint: press the shift and tab keys within a function to have a preview window open in jupyterlab listing the arguments and default settings of a function*"
   ]
  },
  {
   "cell_type": "code",
   "execution_count": 2,
   "metadata": {},
   "outputs": [],
   "source": [
    "#Q2 Code\n"
   ]
  },
  {
   "cell_type": "markdown",
   "metadata": {},
   "source": [
    "### Question 3 (5 pts)\n",
    "\n",
    "Load in the nfl_football_profiles.json file as a dataframe. Print the first 5 rows of the dataframe."
   ]
  },
  {
   "cell_type": "code",
   "execution_count": 3,
   "metadata": {},
   "outputs": [],
   "source": [
    "#Q3 Code\n"
   ]
  },
  {
   "cell_type": "markdown",
   "metadata": {},
   "source": [
    "### Question 4 (10 pts)\n",
    "In addition to the \"all\" or \"any\" functionality described in McKinney section 7.1, it's sometimes useful to drop a row only if a certain column or columns have missing data. To do this, use the subset= option with dropna(). Create a new dataframe and remove any row with a value of None for the current_salary column. Print the first 5 rows of your resulting dataframe. **Use the dropna() function for this question**"
   ]
  },
  {
   "cell_type": "code",
   "execution_count": 6,
   "metadata": {},
   "outputs": [],
   "source": [
    "#Q4 Code\n"
   ]
  },
  {
   "cell_type": "markdown",
   "metadata": {},
   "source": [
    "### Question 5 (10 pts)  \n",
    "Using the original data from question 3, identify the 5 states that had the most NFL players as high school students."
   ]
  },
  {
   "cell_type": "code",
   "execution_count": 50,
   "metadata": {},
   "outputs": [],
   "source": [
    "#Q5 Code\n"
   ]
  },
  {
   "cell_type": "markdown",
   "metadata": {},
   "source": [
    "### Q5 Explanation  "
   ]
  },
  {
   "cell_type": "code",
   "execution_count": null,
   "metadata": {},
   "outputs": [],
   "source": []
  },
  {
   "cell_type": "markdown",
   "metadata": {},
   "source": [
    "### Question 6 (5 pts)  \n",
    "\n",
    "Read chapters 6 and 7 from the [book](https://learning.oreilly.com/library/view/python-for-data/9781491957653/ch06.html) and answer the following questions:  \n",
    "\n",
    "A) How would you write out a DataFrame object to a .csv file?  \n",
    "  \n",
    "B) What is the difference between data.dropna(how='all') and data.dropna()?\n",
    "  \n",
    "C) Why might it be useful to use .cut() and bins on a set of data?  "
   ]
  },
  {
   "cell_type": "markdown",
   "metadata": {},
   "source": [
    "#### Question 6 Explanation:"
   ]
  },
  {
   "cell_type": "markdown",
   "metadata": {},
   "source": []
  }
 ],
 "metadata": {
  "kernelspec": {
   "display_name": "Python 3",
   "language": "python",
   "name": "python3"
  },
  "language_info": {
   "codemirror_mode": {
    "name": "ipython",
    "version": 3
   },
   "file_extension": ".py",
   "mimetype": "text/x-python",
   "name": "python",
   "nbconvert_exporter": "python",
   "pygments_lexer": "ipython3",
   "version": "3.7.4"
  }
 },
 "nbformat": 4,
 "nbformat_minor": 4
}
